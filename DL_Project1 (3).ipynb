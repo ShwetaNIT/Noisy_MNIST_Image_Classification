{
  "cells": [
    {
      "cell_type": "markdown",
      "metadata": {
        "id": "2z-mZnNajlnk"
      },
      "source": [
        "133008100 DL CSCE 636 Project-1"
      ]
    },
    {
      "cell_type": "markdown",
      "metadata": {
        "id": "XHv7PNEbf8y6"
      },
      "source": [
        "Project one. Due: 11:59pm (Central Time) on Wednesday 3/8/2023. (Submit all your code with detailed/clear explanations in a single Jupyter notebook file in Canvas. And email your trained model to csce636projects2023@gmail.com with your name and UIN . 118 points)  \n",
        "\n",
        "This project is on image classification for noisy MNIST dataset. When we add noise to images in the MNIST dataset, the digits in the images become more and more difficult for human to recognize. For example, the images here have increasingly large noise levels. However, interestingly, deep neural networks can still be trained to recognize them relatively well.\n",
        "\n",
        "Your task is to train a good hand-written-digit recognition classifier for the noisy images. Here are the train_images and train_labels. (You can download them, and then use pickle.load(open(path, 'rb')) to open them. They are both tensorflow tensors.)\n",
        "\n",
        "You should submit two things:\n",
        "\n",
        "1) Place all your code in a single Jupyter notebook, and submit it in Canvas. You should accompany your code with clear/detailed explanations, so that we can understand the methods you used.\n",
        "\n",
        "2) Email your trained model to csce636projects2023@gmail.com. (Please make sure to include your name and UIN in the email.) We need to be able to test your model easily in Google CoLab by running a simple line \"test_loss, test_acc = model.evaluate(test_images, test_labels)\" on our holdout test set (test_images, test_labels). (If you need to proprocess the images before running the trained model, please include those preprocess functions in your Jupyter notebook, and explain clearly how to run your code. It needs to be simple to run your codes.)\n",
        "\n",
        "Method of grading: your grade for this project will be equal to:\n",
        "\n",
        "(test_acc + 0.18) x 100\n",
        "\n",
        "For example, if your test accuracy is 0.62, then the grade is 80; and if your test accuracy is 0.9, then the grade is 108. However, if the code in your Jupyter notebook is incomplete, the grade will be 0; and if the explanations in the Jupypter notebook are not clear, then 5 points will be taken away.      "
      ]
    },
    {
      "cell_type": "markdown",
      "metadata": {
        "id": "ZSsmlZY-gMUZ"
      },
      "source": [
        "Load Training data and labels"
      ]
    },
    {
      "cell_type": "code",
      "execution_count": null,
      "metadata": {
        "id": "Y0C7uiy_cb2Q"
      },
      "outputs": [],
      "source": [
        "import tensorflow as tf\n"
      ]
    },
    {
      "cell_type": "code",
      "execution_count": null,
      "metadata": {
        "id": "l8sd-IfIb34e"
      },
      "outputs": [],
      "source": [
        "import pickle\n",
        "train_data_path=\"/content/636_project1_train_images\"\n",
        "train_labels_path=\"/content/636_project1_train_labels\"\n",
        "\n",
        "train_images=pickle.load(open(train_data_path, 'rb'))\n",
        "train_labels=pickle.load(open(train_labels_path, 'rb'))"
      ]
    },
    {
      "cell_type": "code",
      "execution_count": null,
      "metadata": {
        "colab": {
          "base_uri": "https://localhost:8080/"
        },
        "id": "i1eGsLF7cTfd",
        "outputId": "b70f9d02-a57f-4392-d598-500c19141d5d"
      },
      "outputs": [
        {
          "output_type": "execute_result",
          "data": {
            "text/plain": [
              "TensorShape([60000, 28, 28])"
            ]
          },
          "metadata": {},
          "execution_count": 37
        }
      ],
      "source": [
        "train_images.shape"
      ]
    },
    {
      "cell_type": "code",
      "execution_count": null,
      "metadata": {
        "colab": {
          "base_uri": "https://localhost:8080/"
        },
        "id": "VEoPjS2XcUM-",
        "outputId": "b006a127-0cb2-4758-9a5f-eac6c581b748"
      },
      "outputs": [
        {
          "output_type": "execute_result",
          "data": {
            "text/plain": [
              "TensorShape([60000])"
            ]
          },
          "metadata": {},
          "execution_count": 38
        }
      ],
      "source": [
        "train_labels.shape"
      ]
    },
    {
      "cell_type": "markdown",
      "metadata": {
        "id": "jn1-QLGFg5bH"
      },
      "source": [
        "Reshaping the data"
      ]
    },
    {
      "cell_type": "code",
      "execution_count": null,
      "metadata": {
        "id": "lFWY7bx7fn33"
      },
      "outputs": [],
      "source": [
        "from tensorflow.python.ops.numpy_ops import np_config\n",
        "np_config.enable_numpy_behavior()\n",
        "train_images = train_images.reshape((60000, 28, 28, 1))\n",
        "train_images = train_images.astype(\"float32\") / 255"
      ]
    },
    {
      "cell_type": "code",
      "execution_count": null,
      "metadata": {
        "colab": {
          "base_uri": "https://localhost:8080/"
        },
        "id": "urK-jEY8MY-t",
        "outputId": "0a811c6c-6dd0-4bfe-9d52-d3442f8d9c1f"
      },
      "outputs": [
        {
          "output_type": "execute_result",
          "data": {
            "text/plain": [
              "TensorShape([28, 28, 1])"
            ]
          },
          "metadata": {},
          "execution_count": 40
        }
      ],
      "source": [
        "train_images[10001].shape"
      ]
    },
    {
      "cell_type": "code",
      "execution_count": null,
      "metadata": {
        "id": "pQTjIIB0fn7N",
        "colab": {
          "base_uri": "https://localhost:8080/",
          "height": 1000
        },
        "outputId": "9a799501-e0a3-43f7-d08a-6020517ad87c"
      },
      "outputs": [
        {
          "output_type": "stream",
          "name": "stdout",
          "text": [
            "------------------------------------------------------------------------\n",
            "Training for fold 1 ...\n",
            "Epoch 1/70\n",
            "176/176 [==============================] - 5s 17ms/step - loss: 2.3013 - accuracy: 0.1388 - val_loss: 3.2756 - val_accuracy: 0.1090\n",
            "Epoch 2/70\n",
            "176/176 [==============================] - 2s 13ms/step - loss: 2.0119 - accuracy: 0.2839 - val_loss: 2.9525 - val_accuracy: 0.1425\n",
            "Epoch 3/70\n",
            "176/176 [==============================] - 2s 12ms/step - loss: 1.7954 - accuracy: 0.3696 - val_loss: 2.8148 - val_accuracy: 0.1511\n",
            "Epoch 4/70\n",
            "176/176 [==============================] - 2s 13ms/step - loss: 1.6085 - accuracy: 0.4451 - val_loss: 1.7019 - val_accuracy: 0.4341\n",
            "Epoch 5/70\n",
            "176/176 [==============================] - 2s 14ms/step - loss: 1.5181 - accuracy: 0.4739 - val_loss: 1.5008 - val_accuracy: 0.5241\n",
            "Epoch 6/70\n",
            "176/176 [==============================] - 2s 13ms/step - loss: 1.4494 - accuracy: 0.5007 - val_loss: 1.4471 - val_accuracy: 0.5321\n",
            "Epoch 7/70\n",
            "176/176 [==============================] - 2s 13ms/step - loss: 1.3957 - accuracy: 0.5192 - val_loss: 1.4484 - val_accuracy: 0.5112\n",
            "Epoch 8/70\n",
            "176/176 [==============================] - 2s 13ms/step - loss: 1.3532 - accuracy: 0.5354 - val_loss: 1.2850 - val_accuracy: 0.5715\n",
            "Epoch 9/70\n",
            "176/176 [==============================] - 2s 12ms/step - loss: 1.3224 - accuracy: 0.5473 - val_loss: 1.2731 - val_accuracy: 0.5799\n",
            "Epoch 10/70\n",
            "176/176 [==============================] - 2s 14ms/step - loss: 1.2922 - accuracy: 0.5542 - val_loss: 1.2180 - val_accuracy: 0.5974\n",
            "Epoch 11/70\n",
            "176/176 [==============================] - 2s 13ms/step - loss: 1.2745 - accuracy: 0.5622 - val_loss: 1.1827 - val_accuracy: 0.6058\n",
            "Epoch 12/70\n",
            "176/176 [==============================] - 2s 13ms/step - loss: 1.2498 - accuracy: 0.5691 - val_loss: 1.1886 - val_accuracy: 0.5939\n",
            "Epoch 13/70\n",
            "176/176 [==============================] - 2s 12ms/step - loss: 1.2316 - accuracy: 0.5766 - val_loss: 1.1538 - val_accuracy: 0.6115\n",
            "Epoch 14/70\n",
            "176/176 [==============================] - 2s 13ms/step - loss: 1.2204 - accuracy: 0.5803 - val_loss: 1.1268 - val_accuracy: 0.6164\n",
            "Epoch 15/70\n",
            "176/176 [==============================] - 2s 14ms/step - loss: 1.2033 - accuracy: 0.5872 - val_loss: 1.1257 - val_accuracy: 0.6143\n",
            "Epoch 16/70\n",
            "176/176 [==============================] - 2s 13ms/step - loss: 1.1831 - accuracy: 0.5907 - val_loss: 1.1375 - val_accuracy: 0.6129\n",
            "Epoch 17/70\n",
            "176/176 [==============================] - 2s 13ms/step - loss: 1.1738 - accuracy: 0.5978 - val_loss: 1.1398 - val_accuracy: 0.6103\n",
            "Epoch 18/70\n",
            "176/176 [==============================] - 2s 14ms/step - loss: 1.1621 - accuracy: 0.5996 - val_loss: 1.1279 - val_accuracy: 0.6153\n",
            "Epoch 19/70\n",
            "176/176 [==============================] - 2s 13ms/step - loss: 1.1454 - accuracy: 0.6060 - val_loss: 1.1125 - val_accuracy: 0.6203\n",
            "Epoch 20/70\n",
            "176/176 [==============================] - 2s 13ms/step - loss: 1.1262 - accuracy: 0.6128 - val_loss: 1.1171 - val_accuracy: 0.6206\n",
            "Epoch 21/70\n",
            "176/176 [==============================] - 2s 13ms/step - loss: 1.1217 - accuracy: 0.6142 - val_loss: 1.1094 - val_accuracy: 0.6213\n",
            "Epoch 22/70\n",
            "176/176 [==============================] - 2s 12ms/step - loss: 1.1099 - accuracy: 0.6166 - val_loss: 1.1276 - val_accuracy: 0.6189\n",
            "Epoch 23/70\n",
            "176/176 [==============================] - 2s 13ms/step - loss: 1.0971 - accuracy: 0.6229 - val_loss: 1.1069 - val_accuracy: 0.6263\n",
            "Epoch 24/70\n",
            "176/176 [==============================] - 2s 12ms/step - loss: 1.0847 - accuracy: 0.6264 - val_loss: 1.1341 - val_accuracy: 0.6154\n",
            "Epoch 25/70\n",
            "176/176 [==============================] - 2s 13ms/step - loss: 1.0751 - accuracy: 0.6278 - val_loss: 1.1136 - val_accuracy: 0.6232\n",
            "Epoch 26/70\n",
            "176/176 [==============================] - 2s 14ms/step - loss: 1.0614 - accuracy: 0.6340 - val_loss: 1.1192 - val_accuracy: 0.6220\n",
            "Epoch 27/70\n",
            "176/176 [==============================] - 2s 13ms/step - loss: 1.0560 - accuracy: 0.6349 - val_loss: 1.1225 - val_accuracy: 0.6237\n",
            "Epoch 28/70\n",
            "176/176 [==============================] - 2s 13ms/step - loss: 1.0498 - accuracy: 0.6372 - val_loss: 1.1792 - val_accuracy: 0.6025\n",
            "Epoch 29/70\n",
            "176/176 [==============================] - 2s 12ms/step - loss: 1.0359 - accuracy: 0.6421 - val_loss: 1.1290 - val_accuracy: 0.6205\n",
            "Epoch 30/70\n",
            "176/176 [==============================] - 2s 13ms/step - loss: 1.0272 - accuracy: 0.6444 - val_loss: 1.1575 - val_accuracy: 0.6154\n",
            "Epoch 31/70\n",
            "176/176 [==============================] - 2s 13ms/step - loss: 1.0192 - accuracy: 0.6473 - val_loss: 1.1925 - val_accuracy: 0.6079\n",
            "Epoch 32/70\n",
            "176/176 [==============================] - 2s 13ms/step - loss: 1.0098 - accuracy: 0.6480 - val_loss: 1.1568 - val_accuracy: 0.6181\n",
            "Epoch 33/70\n",
            "176/176 [==============================] - 2s 13ms/step - loss: 1.0006 - accuracy: 0.6553 - val_loss: 1.1478 - val_accuracy: 0.6207\n",
            "Epoch 34/70\n",
            "176/176 [==============================] - 2s 12ms/step - loss: 0.9884 - accuracy: 0.6575 - val_loss: 1.1689 - val_accuracy: 0.6161\n",
            "Epoch 35/70\n",
            "176/176 [==============================] - 2s 12ms/step - loss: 0.9833 - accuracy: 0.6570 - val_loss: 1.2044 - val_accuracy: 0.6135\n",
            "Epoch 36/70\n",
            "176/176 [==============================] - 2s 13ms/step - loss: 0.9767 - accuracy: 0.6592 - val_loss: 1.1440 - val_accuracy: 0.6237\n",
            "Epoch 37/70\n",
            "176/176 [==============================] - 2s 14ms/step - loss: 0.9718 - accuracy: 0.6632 - val_loss: 1.1639 - val_accuracy: 0.6186\n",
            "Epoch 38/70\n",
            "176/176 [==============================] - 2s 13ms/step - loss: 0.9601 - accuracy: 0.6664 - val_loss: 1.1602 - val_accuracy: 0.6177\n",
            "Epoch 39/70\n",
            "176/176 [==============================] - 2s 13ms/step - loss: 0.9535 - accuracy: 0.6699 - val_loss: 1.2019 - val_accuracy: 0.6102\n",
            "Epoch 40/70\n",
            "176/176 [==============================] - 2s 13ms/step - loss: 0.9520 - accuracy: 0.6683 - val_loss: 1.2350 - val_accuracy: 0.6038\n",
            "Epoch 41/70\n",
            "176/176 [==============================] - 2s 12ms/step - loss: 0.9391 - accuracy: 0.6743 - val_loss: 1.2030 - val_accuracy: 0.6153\n",
            "Epoch 42/70\n",
            "176/176 [==============================] - 2s 13ms/step - loss: 0.9359 - accuracy: 0.6742 - val_loss: 1.1768 - val_accuracy: 0.6189\n",
            "Epoch 43/70\n",
            "176/176 [==============================] - 2s 13ms/step - loss: 0.9289 - accuracy: 0.6760 - val_loss: 1.1820 - val_accuracy: 0.6218\n",
            "Epoch 44/70\n",
            "176/176 [==============================] - 2s 12ms/step - loss: 0.9228 - accuracy: 0.6800 - val_loss: 1.1791 - val_accuracy: 0.6189\n",
            "Epoch 45/70\n",
            "176/176 [==============================] - 2s 13ms/step - loss: 0.9220 - accuracy: 0.6766 - val_loss: 1.2403 - val_accuracy: 0.6122\n",
            "Epoch 46/70\n",
            "176/176 [==============================] - 2s 12ms/step - loss: 0.9126 - accuracy: 0.6811 - val_loss: 1.2295 - val_accuracy: 0.6065\n",
            "Epoch 47/70\n",
            "176/176 [==============================] - 2s 12ms/step - loss: 0.9077 - accuracy: 0.6834 - val_loss: 1.1861 - val_accuracy: 0.6166\n",
            "Epoch 48/70\n",
            "176/176 [==============================] - 2s 14ms/step - loss: 0.9057 - accuracy: 0.6822 - val_loss: 1.2447 - val_accuracy: 0.6053\n",
            "Epoch 49/70\n",
            "176/176 [==============================] - 2s 12ms/step - loss: 0.8981 - accuracy: 0.6850 - val_loss: 1.2228 - val_accuracy: 0.6113\n",
            "Epoch 50/70\n",
            "176/176 [==============================] - 2s 13ms/step - loss: 0.8943 - accuracy: 0.6874 - val_loss: 1.2367 - val_accuracy: 0.6121\n",
            "Epoch 51/70\n",
            "176/176 [==============================] - 2s 13ms/step - loss: 0.8919 - accuracy: 0.6857 - val_loss: 1.2107 - val_accuracy: 0.6181\n",
            "Epoch 52/70\n",
            "176/176 [==============================] - 2s 13ms/step - loss: 0.8882 - accuracy: 0.6895 - val_loss: 1.2359 - val_accuracy: 0.6143\n",
            "Epoch 53/70\n",
            "176/176 [==============================] - 2s 13ms/step - loss: 0.8721 - accuracy: 0.6958 - val_loss: 1.2240 - val_accuracy: 0.6160\n",
            "Epoch 54/70\n",
            "176/176 [==============================] - 2s 13ms/step - loss: 0.8719 - accuracy: 0.6950 - val_loss: 1.2730 - val_accuracy: 0.6040\n",
            "Epoch 55/70\n",
            "176/176 [==============================] - 2s 13ms/step - loss: 0.8654 - accuracy: 0.6952 - val_loss: 1.2258 - val_accuracy: 0.6131\n",
            "Epoch 56/70\n",
            "176/176 [==============================] - 2s 12ms/step - loss: 0.8612 - accuracy: 0.6996 - val_loss: 1.2367 - val_accuracy: 0.6146\n",
            "Epoch 57/70\n",
            "176/176 [==============================] - 2s 13ms/step - loss: 0.8577 - accuracy: 0.7006 - val_loss: 1.2142 - val_accuracy: 0.6171\n",
            "Epoch 58/70\n",
            "176/176 [==============================] - 2s 13ms/step - loss: 0.8567 - accuracy: 0.7007 - val_loss: 1.2596 - val_accuracy: 0.6099\n",
            "Epoch 59/70\n",
            "176/176 [==============================] - 2s 14ms/step - loss: 0.8516 - accuracy: 0.7026 - val_loss: 1.2503 - val_accuracy: 0.6097\n",
            "Epoch 60/70\n",
            "176/176 [==============================] - 2s 12ms/step - loss: 0.8493 - accuracy: 0.7019 - val_loss: 1.2303 - val_accuracy: 0.6169\n",
            "Epoch 61/70\n",
            "176/176 [==============================] - 2s 12ms/step - loss: 0.8420 - accuracy: 0.7037 - val_loss: 1.2472 - val_accuracy: 0.6137\n",
            "Epoch 62/70\n",
            "176/176 [==============================] - 2s 13ms/step - loss: 0.8403 - accuracy: 0.7041 - val_loss: 1.2511 - val_accuracy: 0.6111\n",
            "Epoch 63/70\n",
            "176/176 [==============================] - 2s 13ms/step - loss: 0.8377 - accuracy: 0.7053 - val_loss: 1.2568 - val_accuracy: 0.6087\n",
            "Epoch 64/70\n",
            "176/176 [==============================] - 2s 14ms/step - loss: 0.8288 - accuracy: 0.7089 - val_loss: 1.2670 - val_accuracy: 0.6069\n",
            "Epoch 65/70\n",
            " 53/176 [========>.....................] - ETA: 1s - loss: 0.8083 - accuracy: 0.7161"
          ]
        },
        {
          "output_type": "error",
          "ename": "KeyboardInterrupt",
          "evalue": "ignored",
          "traceback": [
            "\u001b[0;31m---------------------------------------------------------------------------\u001b[0m",
            "\u001b[0;31mKeyboardInterrupt\u001b[0m                         Traceback (most recent call last)",
            "\u001b[0;32m<ipython-input-45-6d5472ca1b56>\u001b[0m in \u001b[0;36m<module>\u001b[0;34m\u001b[0m\n\u001b[1;32m     44\u001b[0m   \u001b[0mprint\u001b[0m\u001b[0;34m(\u001b[0m\u001b[0;34mf'Training for fold {fold_no} ...'\u001b[0m\u001b[0;34m)\u001b[0m\u001b[0;34m\u001b[0m\u001b[0;34m\u001b[0m\u001b[0m\n\u001b[1;32m     45\u001b[0m \u001b[0;34m\u001b[0m\u001b[0m\n\u001b[0;32m---> 46\u001b[0;31m   history = model.fit(train_images[train], \n\u001b[0m\u001b[1;32m     47\u001b[0m             \u001b[0mtrain_labels\u001b[0m\u001b[0;34m[\u001b[0m\u001b[0mtrain\u001b[0m\u001b[0;34m]\u001b[0m\u001b[0;34m,\u001b[0m\u001b[0;34m\u001b[0m\u001b[0;34m\u001b[0m\u001b[0m\n\u001b[1;32m     48\u001b[0m             \u001b[0mepochs\u001b[0m\u001b[0;34m=\u001b[0m\u001b[0;36m70\u001b[0m\u001b[0;34m,\u001b[0m\u001b[0;34m\u001b[0m\u001b[0;34m\u001b[0m\u001b[0m\n",
            "\u001b[0;32m/usr/local/lib/python3.8/dist-packages/keras/utils/traceback_utils.py\u001b[0m in \u001b[0;36merror_handler\u001b[0;34m(*args, **kwargs)\u001b[0m\n\u001b[1;32m     63\u001b[0m         \u001b[0mfiltered_tb\u001b[0m \u001b[0;34m=\u001b[0m \u001b[0;32mNone\u001b[0m\u001b[0;34m\u001b[0m\u001b[0;34m\u001b[0m\u001b[0m\n\u001b[1;32m     64\u001b[0m         \u001b[0;32mtry\u001b[0m\u001b[0;34m:\u001b[0m\u001b[0;34m\u001b[0m\u001b[0;34m\u001b[0m\u001b[0m\n\u001b[0;32m---> 65\u001b[0;31m             \u001b[0;32mreturn\u001b[0m \u001b[0mfn\u001b[0m\u001b[0;34m(\u001b[0m\u001b[0;34m*\u001b[0m\u001b[0margs\u001b[0m\u001b[0;34m,\u001b[0m \u001b[0;34m**\u001b[0m\u001b[0mkwargs\u001b[0m\u001b[0;34m)\u001b[0m\u001b[0;34m\u001b[0m\u001b[0;34m\u001b[0m\u001b[0m\n\u001b[0m\u001b[1;32m     66\u001b[0m         \u001b[0;32mexcept\u001b[0m \u001b[0mException\u001b[0m \u001b[0;32mas\u001b[0m \u001b[0me\u001b[0m\u001b[0;34m:\u001b[0m\u001b[0;34m\u001b[0m\u001b[0;34m\u001b[0m\u001b[0m\n\u001b[1;32m     67\u001b[0m             \u001b[0mfiltered_tb\u001b[0m \u001b[0;34m=\u001b[0m \u001b[0m_process_traceback_frames\u001b[0m\u001b[0;34m(\u001b[0m\u001b[0me\u001b[0m\u001b[0;34m.\u001b[0m\u001b[0m__traceback__\u001b[0m\u001b[0;34m)\u001b[0m\u001b[0;34m\u001b[0m\u001b[0;34m\u001b[0m\u001b[0m\n",
            "\u001b[0;32m/usr/local/lib/python3.8/dist-packages/keras/engine/training.py\u001b[0m in \u001b[0;36mfit\u001b[0;34m(self, x, y, batch_size, epochs, verbose, callbacks, validation_split, validation_data, shuffle, class_weight, sample_weight, initial_epoch, steps_per_epoch, validation_steps, validation_batch_size, validation_freq, max_queue_size, workers, use_multiprocessing)\u001b[0m\n\u001b[1;32m   1654\u001b[0m                             \u001b[0mlogs\u001b[0m \u001b[0;34m=\u001b[0m \u001b[0mtmp_logs\u001b[0m\u001b[0;34m\u001b[0m\u001b[0;34m\u001b[0m\u001b[0m\n\u001b[1;32m   1655\u001b[0m                             \u001b[0mend_step\u001b[0m \u001b[0;34m=\u001b[0m \u001b[0mstep\u001b[0m \u001b[0;34m+\u001b[0m \u001b[0mdata_handler\u001b[0m\u001b[0;34m.\u001b[0m\u001b[0mstep_increment\u001b[0m\u001b[0;34m\u001b[0m\u001b[0;34m\u001b[0m\u001b[0m\n\u001b[0;32m-> 1656\u001b[0;31m                             \u001b[0mcallbacks\u001b[0m\u001b[0;34m.\u001b[0m\u001b[0mon_train_batch_end\u001b[0m\u001b[0;34m(\u001b[0m\u001b[0mend_step\u001b[0m\u001b[0;34m,\u001b[0m \u001b[0mlogs\u001b[0m\u001b[0;34m)\u001b[0m\u001b[0;34m\u001b[0m\u001b[0;34m\u001b[0m\u001b[0m\n\u001b[0m\u001b[1;32m   1657\u001b[0m                             \u001b[0;32mif\u001b[0m \u001b[0mself\u001b[0m\u001b[0;34m.\u001b[0m\u001b[0mstop_training\u001b[0m\u001b[0;34m:\u001b[0m\u001b[0;34m\u001b[0m\u001b[0;34m\u001b[0m\u001b[0m\n\u001b[1;32m   1658\u001b[0m                                 \u001b[0;32mbreak\u001b[0m\u001b[0;34m\u001b[0m\u001b[0;34m\u001b[0m\u001b[0m\n",
            "\u001b[0;32m/usr/local/lib/python3.8/dist-packages/keras/callbacks.py\u001b[0m in \u001b[0;36mon_train_batch_end\u001b[0;34m(self, batch, logs)\u001b[0m\n\u001b[1;32m    474\u001b[0m         \"\"\"\n\u001b[1;32m    475\u001b[0m         \u001b[0;32mif\u001b[0m \u001b[0mself\u001b[0m\u001b[0;34m.\u001b[0m\u001b[0m_should_call_train_batch_hooks\u001b[0m\u001b[0;34m:\u001b[0m\u001b[0;34m\u001b[0m\u001b[0;34m\u001b[0m\u001b[0m\n\u001b[0;32m--> 476\u001b[0;31m             \u001b[0mself\u001b[0m\u001b[0;34m.\u001b[0m\u001b[0m_call_batch_hook\u001b[0m\u001b[0;34m(\u001b[0m\u001b[0mModeKeys\u001b[0m\u001b[0;34m.\u001b[0m\u001b[0mTRAIN\u001b[0m\u001b[0;34m,\u001b[0m \u001b[0;34m\"end\"\u001b[0m\u001b[0;34m,\u001b[0m \u001b[0mbatch\u001b[0m\u001b[0;34m,\u001b[0m \u001b[0mlogs\u001b[0m\u001b[0;34m=\u001b[0m\u001b[0mlogs\u001b[0m\u001b[0;34m)\u001b[0m\u001b[0;34m\u001b[0m\u001b[0;34m\u001b[0m\u001b[0m\n\u001b[0m\u001b[1;32m    477\u001b[0m \u001b[0;34m\u001b[0m\u001b[0m\n\u001b[1;32m    478\u001b[0m     \u001b[0;32mdef\u001b[0m \u001b[0mon_test_batch_begin\u001b[0m\u001b[0;34m(\u001b[0m\u001b[0mself\u001b[0m\u001b[0;34m,\u001b[0m \u001b[0mbatch\u001b[0m\u001b[0;34m,\u001b[0m \u001b[0mlogs\u001b[0m\u001b[0;34m=\u001b[0m\u001b[0;32mNone\u001b[0m\u001b[0;34m)\u001b[0m\u001b[0;34m:\u001b[0m\u001b[0;34m\u001b[0m\u001b[0;34m\u001b[0m\u001b[0m\n",
            "\u001b[0;32m/usr/local/lib/python3.8/dist-packages/keras/callbacks.py\u001b[0m in \u001b[0;36m_call_batch_hook\u001b[0;34m(self, mode, hook, batch, logs)\u001b[0m\n\u001b[1;32m    321\u001b[0m             \u001b[0mself\u001b[0m\u001b[0;34m.\u001b[0m\u001b[0m_call_batch_begin_hook\u001b[0m\u001b[0;34m(\u001b[0m\u001b[0mmode\u001b[0m\u001b[0;34m,\u001b[0m \u001b[0mbatch\u001b[0m\u001b[0;34m,\u001b[0m \u001b[0mlogs\u001b[0m\u001b[0;34m)\u001b[0m\u001b[0;34m\u001b[0m\u001b[0;34m\u001b[0m\u001b[0m\n\u001b[1;32m    322\u001b[0m         \u001b[0;32melif\u001b[0m \u001b[0mhook\u001b[0m \u001b[0;34m==\u001b[0m \u001b[0;34m\"end\"\u001b[0m\u001b[0;34m:\u001b[0m\u001b[0;34m\u001b[0m\u001b[0;34m\u001b[0m\u001b[0m\n\u001b[0;32m--> 323\u001b[0;31m             \u001b[0mself\u001b[0m\u001b[0;34m.\u001b[0m\u001b[0m_call_batch_end_hook\u001b[0m\u001b[0;34m(\u001b[0m\u001b[0mmode\u001b[0m\u001b[0;34m,\u001b[0m \u001b[0mbatch\u001b[0m\u001b[0;34m,\u001b[0m \u001b[0mlogs\u001b[0m\u001b[0;34m)\u001b[0m\u001b[0;34m\u001b[0m\u001b[0;34m\u001b[0m\u001b[0m\n\u001b[0m\u001b[1;32m    324\u001b[0m         \u001b[0;32melse\u001b[0m\u001b[0;34m:\u001b[0m\u001b[0;34m\u001b[0m\u001b[0;34m\u001b[0m\u001b[0m\n\u001b[1;32m    325\u001b[0m             raise ValueError(\n",
            "\u001b[0;32m/usr/local/lib/python3.8/dist-packages/keras/callbacks.py\u001b[0m in \u001b[0;36m_call_batch_end_hook\u001b[0;34m(self, mode, batch, logs)\u001b[0m\n\u001b[1;32m    344\u001b[0m             \u001b[0mself\u001b[0m\u001b[0;34m.\u001b[0m\u001b[0m_batch_times\u001b[0m\u001b[0;34m.\u001b[0m\u001b[0mappend\u001b[0m\u001b[0;34m(\u001b[0m\u001b[0mbatch_time\u001b[0m\u001b[0;34m)\u001b[0m\u001b[0;34m\u001b[0m\u001b[0;34m\u001b[0m\u001b[0m\n\u001b[1;32m    345\u001b[0m \u001b[0;34m\u001b[0m\u001b[0m\n\u001b[0;32m--> 346\u001b[0;31m         \u001b[0mself\u001b[0m\u001b[0;34m.\u001b[0m\u001b[0m_call_batch_hook_helper\u001b[0m\u001b[0;34m(\u001b[0m\u001b[0mhook_name\u001b[0m\u001b[0;34m,\u001b[0m \u001b[0mbatch\u001b[0m\u001b[0;34m,\u001b[0m \u001b[0mlogs\u001b[0m\u001b[0;34m)\u001b[0m\u001b[0;34m\u001b[0m\u001b[0;34m\u001b[0m\u001b[0m\n\u001b[0m\u001b[1;32m    347\u001b[0m \u001b[0;34m\u001b[0m\u001b[0m\n\u001b[1;32m    348\u001b[0m         \u001b[0;32mif\u001b[0m \u001b[0mlen\u001b[0m\u001b[0;34m(\u001b[0m\u001b[0mself\u001b[0m\u001b[0;34m.\u001b[0m\u001b[0m_batch_times\u001b[0m\u001b[0;34m)\u001b[0m \u001b[0;34m>=\u001b[0m \u001b[0mself\u001b[0m\u001b[0;34m.\u001b[0m\u001b[0m_num_batches_for_timing_check\u001b[0m\u001b[0;34m:\u001b[0m\u001b[0;34m\u001b[0m\u001b[0;34m\u001b[0m\u001b[0m\n",
            "\u001b[0;32m/usr/local/lib/python3.8/dist-packages/keras/callbacks.py\u001b[0m in \u001b[0;36m_call_batch_hook_helper\u001b[0;34m(self, hook_name, batch, logs)\u001b[0m\n\u001b[1;32m    392\u001b[0m         \u001b[0;32mfor\u001b[0m \u001b[0mcallback\u001b[0m \u001b[0;32min\u001b[0m \u001b[0mself\u001b[0m\u001b[0;34m.\u001b[0m\u001b[0mcallbacks\u001b[0m\u001b[0;34m:\u001b[0m\u001b[0;34m\u001b[0m\u001b[0;34m\u001b[0m\u001b[0m\n\u001b[1;32m    393\u001b[0m             \u001b[0mhook\u001b[0m \u001b[0;34m=\u001b[0m \u001b[0mgetattr\u001b[0m\u001b[0;34m(\u001b[0m\u001b[0mcallback\u001b[0m\u001b[0;34m,\u001b[0m \u001b[0mhook_name\u001b[0m\u001b[0;34m)\u001b[0m\u001b[0;34m\u001b[0m\u001b[0;34m\u001b[0m\u001b[0m\n\u001b[0;32m--> 394\u001b[0;31m             \u001b[0mhook\u001b[0m\u001b[0;34m(\u001b[0m\u001b[0mbatch\u001b[0m\u001b[0;34m,\u001b[0m \u001b[0mlogs\u001b[0m\u001b[0;34m)\u001b[0m\u001b[0;34m\u001b[0m\u001b[0;34m\u001b[0m\u001b[0m\n\u001b[0m\u001b[1;32m    395\u001b[0m \u001b[0;34m\u001b[0m\u001b[0m\n\u001b[1;32m    396\u001b[0m         \u001b[0;32mif\u001b[0m \u001b[0mself\u001b[0m\u001b[0;34m.\u001b[0m\u001b[0m_check_timing\u001b[0m\u001b[0;34m:\u001b[0m\u001b[0;34m\u001b[0m\u001b[0;34m\u001b[0m\u001b[0m\n",
            "\u001b[0;32m/usr/local/lib/python3.8/dist-packages/keras/callbacks.py\u001b[0m in \u001b[0;36mon_train_batch_end\u001b[0;34m(self, batch, logs)\u001b[0m\n\u001b[1;32m   1092\u001b[0m \u001b[0;34m\u001b[0m\u001b[0m\n\u001b[1;32m   1093\u001b[0m     \u001b[0;32mdef\u001b[0m \u001b[0mon_train_batch_end\u001b[0m\u001b[0;34m(\u001b[0m\u001b[0mself\u001b[0m\u001b[0;34m,\u001b[0m \u001b[0mbatch\u001b[0m\u001b[0;34m,\u001b[0m \u001b[0mlogs\u001b[0m\u001b[0;34m=\u001b[0m\u001b[0;32mNone\u001b[0m\u001b[0;34m)\u001b[0m\u001b[0;34m:\u001b[0m\u001b[0;34m\u001b[0m\u001b[0;34m\u001b[0m\u001b[0m\n\u001b[0;32m-> 1094\u001b[0;31m         \u001b[0mself\u001b[0m\u001b[0;34m.\u001b[0m\u001b[0m_batch_update_progbar\u001b[0m\u001b[0;34m(\u001b[0m\u001b[0mbatch\u001b[0m\u001b[0;34m,\u001b[0m \u001b[0mlogs\u001b[0m\u001b[0;34m)\u001b[0m\u001b[0;34m\u001b[0m\u001b[0;34m\u001b[0m\u001b[0m\n\u001b[0m\u001b[1;32m   1095\u001b[0m \u001b[0;34m\u001b[0m\u001b[0m\n\u001b[1;32m   1096\u001b[0m     \u001b[0;32mdef\u001b[0m \u001b[0mon_test_batch_end\u001b[0m\u001b[0;34m(\u001b[0m\u001b[0mself\u001b[0m\u001b[0;34m,\u001b[0m \u001b[0mbatch\u001b[0m\u001b[0;34m,\u001b[0m \u001b[0mlogs\u001b[0m\u001b[0;34m=\u001b[0m\u001b[0;32mNone\u001b[0m\u001b[0;34m)\u001b[0m\u001b[0;34m:\u001b[0m\u001b[0;34m\u001b[0m\u001b[0;34m\u001b[0m\u001b[0m\n",
            "\u001b[0;32m/usr/local/lib/python3.8/dist-packages/keras/callbacks.py\u001b[0m in \u001b[0;36m_batch_update_progbar\u001b[0;34m(self, batch, logs)\u001b[0m\n\u001b[1;32m   1168\u001b[0m         \u001b[0;32mif\u001b[0m \u001b[0mself\u001b[0m\u001b[0;34m.\u001b[0m\u001b[0mverbose\u001b[0m \u001b[0;34m==\u001b[0m \u001b[0;36m1\u001b[0m\u001b[0;34m:\u001b[0m\u001b[0;34m\u001b[0m\u001b[0;34m\u001b[0m\u001b[0m\n\u001b[1;32m   1169\u001b[0m             \u001b[0;31m# Only block async when verbose = 1.\u001b[0m\u001b[0;34m\u001b[0m\u001b[0;34m\u001b[0m\u001b[0;34m\u001b[0m\u001b[0m\n\u001b[0;32m-> 1170\u001b[0;31m             \u001b[0mlogs\u001b[0m \u001b[0;34m=\u001b[0m \u001b[0mtf_utils\u001b[0m\u001b[0;34m.\u001b[0m\u001b[0msync_to_numpy_or_python_type\u001b[0m\u001b[0;34m(\u001b[0m\u001b[0mlogs\u001b[0m\u001b[0;34m)\u001b[0m\u001b[0;34m\u001b[0m\u001b[0;34m\u001b[0m\u001b[0m\n\u001b[0m\u001b[1;32m   1171\u001b[0m             \u001b[0mself\u001b[0m\u001b[0;34m.\u001b[0m\u001b[0mprogbar\u001b[0m\u001b[0;34m.\u001b[0m\u001b[0mupdate\u001b[0m\u001b[0;34m(\u001b[0m\u001b[0mself\u001b[0m\u001b[0;34m.\u001b[0m\u001b[0mseen\u001b[0m\u001b[0;34m,\u001b[0m \u001b[0mlist\u001b[0m\u001b[0;34m(\u001b[0m\u001b[0mlogs\u001b[0m\u001b[0;34m.\u001b[0m\u001b[0mitems\u001b[0m\u001b[0;34m(\u001b[0m\u001b[0;34m)\u001b[0m\u001b[0;34m)\u001b[0m\u001b[0;34m,\u001b[0m \u001b[0mfinalize\u001b[0m\u001b[0;34m=\u001b[0m\u001b[0;32mFalse\u001b[0m\u001b[0;34m)\u001b[0m\u001b[0;34m\u001b[0m\u001b[0;34m\u001b[0m\u001b[0m\n\u001b[1;32m   1172\u001b[0m \u001b[0;34m\u001b[0m\u001b[0m\n",
            "\u001b[0;32m/usr/local/lib/python3.8/dist-packages/keras/utils/tf_utils.py\u001b[0m in \u001b[0;36msync_to_numpy_or_python_type\u001b[0;34m(tensors)\u001b[0m\n\u001b[1;32m    663\u001b[0m         \u001b[0;32mreturn\u001b[0m \u001b[0mt\u001b[0m\u001b[0;34m.\u001b[0m\u001b[0mitem\u001b[0m\u001b[0;34m(\u001b[0m\u001b[0;34m)\u001b[0m \u001b[0;32mif\u001b[0m \u001b[0mnp\u001b[0m\u001b[0;34m.\u001b[0m\u001b[0mndim\u001b[0m\u001b[0;34m(\u001b[0m\u001b[0mt\u001b[0m\u001b[0;34m)\u001b[0m \u001b[0;34m==\u001b[0m \u001b[0;36m0\u001b[0m \u001b[0;32melse\u001b[0m \u001b[0mt\u001b[0m\u001b[0;34m\u001b[0m\u001b[0;34m\u001b[0m\u001b[0m\n\u001b[1;32m    664\u001b[0m \u001b[0;34m\u001b[0m\u001b[0m\n\u001b[0;32m--> 665\u001b[0;31m     \u001b[0;32mreturn\u001b[0m \u001b[0mtf\u001b[0m\u001b[0;34m.\u001b[0m\u001b[0mnest\u001b[0m\u001b[0;34m.\u001b[0m\u001b[0mmap_structure\u001b[0m\u001b[0;34m(\u001b[0m\u001b[0m_to_single_numpy_or_python_type\u001b[0m\u001b[0;34m,\u001b[0m \u001b[0mtensors\u001b[0m\u001b[0;34m)\u001b[0m\u001b[0;34m\u001b[0m\u001b[0;34m\u001b[0m\u001b[0m\n\u001b[0m\u001b[1;32m    666\u001b[0m \u001b[0;34m\u001b[0m\u001b[0m\n\u001b[1;32m    667\u001b[0m \u001b[0;34m\u001b[0m\u001b[0m\n",
            "\u001b[0;32m/usr/local/lib/python3.8/dist-packages/tensorflow/python/util/nest.py\u001b[0m in \u001b[0;36mmap_structure\u001b[0;34m(func, *structure, **kwargs)\u001b[0m\n\u001b[1;32m    915\u001b[0m \u001b[0;34m\u001b[0m\u001b[0m\n\u001b[1;32m    916\u001b[0m   return pack_sequence_as(\n\u001b[0;32m--> 917\u001b[0;31m       \u001b[0mstructure\u001b[0m\u001b[0;34m[\u001b[0m\u001b[0;36m0\u001b[0m\u001b[0;34m]\u001b[0m\u001b[0;34m,\u001b[0m \u001b[0;34m[\u001b[0m\u001b[0mfunc\u001b[0m\u001b[0;34m(\u001b[0m\u001b[0;34m*\u001b[0m\u001b[0mx\u001b[0m\u001b[0;34m)\u001b[0m \u001b[0;32mfor\u001b[0m \u001b[0mx\u001b[0m \u001b[0;32min\u001b[0m \u001b[0mentries\u001b[0m\u001b[0;34m]\u001b[0m\u001b[0;34m,\u001b[0m\u001b[0;34m\u001b[0m\u001b[0;34m\u001b[0m\u001b[0m\n\u001b[0m\u001b[1;32m    918\u001b[0m       expand_composites=expand_composites)\n\u001b[1;32m    919\u001b[0m \u001b[0;34m\u001b[0m\u001b[0m\n",
            "\u001b[0;32m/usr/local/lib/python3.8/dist-packages/tensorflow/python/util/nest.py\u001b[0m in \u001b[0;36m<listcomp>\u001b[0;34m(.0)\u001b[0m\n\u001b[1;32m    915\u001b[0m \u001b[0;34m\u001b[0m\u001b[0m\n\u001b[1;32m    916\u001b[0m   return pack_sequence_as(\n\u001b[0;32m--> 917\u001b[0;31m       \u001b[0mstructure\u001b[0m\u001b[0;34m[\u001b[0m\u001b[0;36m0\u001b[0m\u001b[0;34m]\u001b[0m\u001b[0;34m,\u001b[0m \u001b[0;34m[\u001b[0m\u001b[0mfunc\u001b[0m\u001b[0;34m(\u001b[0m\u001b[0;34m*\u001b[0m\u001b[0mx\u001b[0m\u001b[0;34m)\u001b[0m \u001b[0;32mfor\u001b[0m \u001b[0mx\u001b[0m \u001b[0;32min\u001b[0m \u001b[0mentries\u001b[0m\u001b[0;34m]\u001b[0m\u001b[0;34m,\u001b[0m\u001b[0;34m\u001b[0m\u001b[0;34m\u001b[0m\u001b[0m\n\u001b[0m\u001b[1;32m    918\u001b[0m       expand_composites=expand_composites)\n\u001b[1;32m    919\u001b[0m \u001b[0;34m\u001b[0m\u001b[0m\n",
            "\u001b[0;32m/usr/local/lib/python3.8/dist-packages/keras/utils/tf_utils.py\u001b[0m in \u001b[0;36m_to_single_numpy_or_python_type\u001b[0;34m(t)\u001b[0m\n\u001b[1;32m    656\u001b[0m         \u001b[0;31m# Don't turn ragged or sparse tensors to NumPy.\u001b[0m\u001b[0;34m\u001b[0m\u001b[0;34m\u001b[0m\u001b[0;34m\u001b[0m\u001b[0m\n\u001b[1;32m    657\u001b[0m         \u001b[0;32mif\u001b[0m \u001b[0misinstance\u001b[0m\u001b[0;34m(\u001b[0m\u001b[0mt\u001b[0m\u001b[0;34m,\u001b[0m \u001b[0mtf\u001b[0m\u001b[0;34m.\u001b[0m\u001b[0mTensor\u001b[0m\u001b[0;34m)\u001b[0m\u001b[0;34m:\u001b[0m\u001b[0;34m\u001b[0m\u001b[0;34m\u001b[0m\u001b[0m\n\u001b[0;32m--> 658\u001b[0;31m             \u001b[0mt\u001b[0m \u001b[0;34m=\u001b[0m \u001b[0mt\u001b[0m\u001b[0;34m.\u001b[0m\u001b[0mnumpy\u001b[0m\u001b[0;34m(\u001b[0m\u001b[0;34m)\u001b[0m\u001b[0;34m\u001b[0m\u001b[0;34m\u001b[0m\u001b[0m\n\u001b[0m\u001b[1;32m    659\u001b[0m         \u001b[0;31m# Strings, ragged and sparse tensors don't have .item(). Return them\u001b[0m\u001b[0;34m\u001b[0m\u001b[0;34m\u001b[0m\u001b[0;34m\u001b[0m\u001b[0m\n\u001b[1;32m    660\u001b[0m         \u001b[0;31m# as-is.\u001b[0m\u001b[0;34m\u001b[0m\u001b[0;34m\u001b[0m\u001b[0;34m\u001b[0m\u001b[0m\n",
            "\u001b[0;32m/usr/local/lib/python3.8/dist-packages/tensorflow/python/framework/ops.py\u001b[0m in \u001b[0;36mnumpy\u001b[0;34m(self)\u001b[0m\n\u001b[1;32m   1153\u001b[0m     \"\"\"\n\u001b[1;32m   1154\u001b[0m     \u001b[0;31m# TODO(slebedev): Consider avoiding a copy for non-CPU or remote tensors.\u001b[0m\u001b[0;34m\u001b[0m\u001b[0;34m\u001b[0m\u001b[0;34m\u001b[0m\u001b[0m\n\u001b[0;32m-> 1155\u001b[0;31m     \u001b[0mmaybe_arr\u001b[0m \u001b[0;34m=\u001b[0m \u001b[0mself\u001b[0m\u001b[0;34m.\u001b[0m\u001b[0m_numpy\u001b[0m\u001b[0;34m(\u001b[0m\u001b[0;34m)\u001b[0m  \u001b[0;31m# pylint: disable=protected-access\u001b[0m\u001b[0;34m\u001b[0m\u001b[0;34m\u001b[0m\u001b[0m\n\u001b[0m\u001b[1;32m   1156\u001b[0m     \u001b[0;32mreturn\u001b[0m \u001b[0mmaybe_arr\u001b[0m\u001b[0;34m.\u001b[0m\u001b[0mcopy\u001b[0m\u001b[0;34m(\u001b[0m\u001b[0;34m)\u001b[0m \u001b[0;32mif\u001b[0m \u001b[0misinstance\u001b[0m\u001b[0;34m(\u001b[0m\u001b[0mmaybe_arr\u001b[0m\u001b[0;34m,\u001b[0m \u001b[0mnp\u001b[0m\u001b[0;34m.\u001b[0m\u001b[0mndarray\u001b[0m\u001b[0;34m)\u001b[0m \u001b[0;32melse\u001b[0m \u001b[0mmaybe_arr\u001b[0m\u001b[0;34m\u001b[0m\u001b[0;34m\u001b[0m\u001b[0m\n\u001b[1;32m   1157\u001b[0m \u001b[0;34m\u001b[0m\u001b[0m\n",
            "\u001b[0;32m/usr/local/lib/python3.8/dist-packages/tensorflow/python/framework/ops.py\u001b[0m in \u001b[0;36m_numpy\u001b[0;34m(self)\u001b[0m\n\u001b[1;32m   1119\u001b[0m   \u001b[0;32mdef\u001b[0m \u001b[0m_numpy\u001b[0m\u001b[0;34m(\u001b[0m\u001b[0mself\u001b[0m\u001b[0;34m)\u001b[0m\u001b[0;34m:\u001b[0m\u001b[0;34m\u001b[0m\u001b[0;34m\u001b[0m\u001b[0m\n\u001b[1;32m   1120\u001b[0m     \u001b[0;32mtry\u001b[0m\u001b[0;34m:\u001b[0m\u001b[0;34m\u001b[0m\u001b[0;34m\u001b[0m\u001b[0m\n\u001b[0;32m-> 1121\u001b[0;31m       \u001b[0;32mreturn\u001b[0m \u001b[0mself\u001b[0m\u001b[0;34m.\u001b[0m\u001b[0m_numpy_internal\u001b[0m\u001b[0;34m(\u001b[0m\u001b[0;34m)\u001b[0m\u001b[0;34m\u001b[0m\u001b[0;34m\u001b[0m\u001b[0m\n\u001b[0m\u001b[1;32m   1122\u001b[0m     \u001b[0;32mexcept\u001b[0m \u001b[0mcore\u001b[0m\u001b[0;34m.\u001b[0m\u001b[0m_NotOkStatusException\u001b[0m \u001b[0;32mas\u001b[0m \u001b[0me\u001b[0m\u001b[0;34m:\u001b[0m  \u001b[0;31m# pylint: disable=protected-access\u001b[0m\u001b[0;34m\u001b[0m\u001b[0;34m\u001b[0m\u001b[0m\n\u001b[1;32m   1123\u001b[0m       \u001b[0;32mraise\u001b[0m \u001b[0mcore\u001b[0m\u001b[0;34m.\u001b[0m\u001b[0m_status_to_exception\u001b[0m\u001b[0;34m(\u001b[0m\u001b[0me\u001b[0m\u001b[0;34m)\u001b[0m \u001b[0;32mfrom\u001b[0m \u001b[0;32mNone\u001b[0m  \u001b[0;31m# pylint: disable=protected-access\u001b[0m\u001b[0;34m\u001b[0m\u001b[0;34m\u001b[0m\u001b[0m\n",
            "\u001b[0;31mKeyboardInterrupt\u001b[0m: "
          ]
        }
      ],
      "source": [
        "from tensorflow import keras\n",
        "from tensorflow.keras import layers\n",
        "from sklearn.model_selection import KFold\n",
        "import matplotlib.pyplot as plt\n",
        "\n",
        "# Define the K-fold Cross Validator\n",
        "kfold = KFold(n_splits=4, shuffle=True)\n",
        "\n",
        "# K-fold Cross Validation model evaluation\n",
        "fold_no = 1\n",
        "for train, test in kfold.split(train_images, train_labels):\n",
        "  inputs = keras.Input(shape=(28, 28, 1))\n",
        "  x = layers.Conv2D(filters=4, kernel_size=3, activation=\"relu\")(inputs)\n",
        "  x = layers.MaxPooling2D(pool_size=2)(x)\n",
        "  x = layers.Dropout(0.5)(x)\n",
        "  x = layers.Conv2D(filters=8, kernel_size=3, activation=\"relu\")(inputs)\n",
        "  x = layers.MaxPooling2D(pool_size=2)(x)\n",
        "  x = layers.Dropout(0.5)(x)\n",
        "  x = layers.Conv2D(filters=16, kernel_size=3, activation=\"relu\")(inputs)\n",
        "  x = layers.MaxPooling2D(pool_size=2)(x)\n",
        "  x = layers.Dropout(0.5)(x)\n",
        "  x = layers.Conv2D(filters=32, kernel_size=3, activation=\"relu\")(inputs)\n",
        "  x = layers.MaxPooling2D(pool_size=2)(x)\n",
        "  x = layers.Dropout(0.5)(x)\n",
        "  x = layers.Conv2D(filters=64, kernel_size=3, activation=\"relu\")(x)\n",
        "  x = layers.MaxPooling2D(pool_size=2)(x)\n",
        "  x = layers.Dropout(0.2)(x)\n",
        "  x = layers.Conv2D(filters=128, kernel_size=3, activation=\"relu\")(x)\n",
        "  x = layers.Flatten()(x)\n",
        "  outputs = layers.Dense(10, activation=\"softmax\")(x)\n",
        "  model = keras.Model(inputs=inputs, outputs=outputs)\n",
        "\n",
        "  model.compile(optimizer=tf.keras.optimizers.Adam(learning_rate=0.0007),\n",
        "      loss=\"sparse_categorical_crossentropy\",\n",
        "      metrics=[\"accuracy\"])\n",
        "\n",
        "    # Generate a print\n",
        "  print('------------------------------------------------------------------------')\n",
        "  print(f'Training for fold {fold_no} ...')\n",
        "\n",
        "  history = model.fit(train_images[train],\n",
        "            train_labels[train],\n",
        "            epochs=70,\n",
        "            validation_data=(train_images[test], train_labels[test]),\n",
        "            batch_size=256)\n",
        "\n",
        "  accuracy = history.history[\"accuracy\"]\n",
        "  val_accuracy = history.history[\"val_accuracy\"]\n",
        "  loss = history.history[\"loss\"]\n",
        "  val_loss = history.history[\"val_loss\"]\n",
        "  epochs = range(1, len(accuracy) + 1)\n",
        "  plt.plot(epochs, accuracy, \"bo\", label=\"Training accuracy\")\n",
        "  plt.plot(epochs, val_accuracy, \"b\", label=\"Validation accuracy\")\n",
        "  plt.title(\"Training and validation accuracy\")\n",
        "  plt.legend()\n",
        "  plt.figure()\n",
        "  plt.plot(epochs, loss, \"bo\", label=\"Training loss\")\n",
        "  plt.plot(epochs, val_loss, \"b\", label=\"Validation loss\")\n",
        "  plt.title(\"Training and validation loss\")\n",
        "  plt.legend()\n",
        "  plt.show()\n",
        "  # Increase fold number\n",
        "  fold_no = fold_no + 1"
      ]
    },
    {
      "cell_type": "code",
      "execution_count": null,
      "metadata": {
        "colab": {
          "base_uri": "https://localhost:8080/"
        },
        "id": "JnGY861Mfn-4",
        "outputId": "48cfb309-0676-4bef-caaa-60b7adeb1813"
      },
      "outputs": [
        {
          "output_type": "stream",
          "name": "stdout",
          "text": [
            "Model: \"model_9\"\n",
            "_________________________________________________________________\n",
            " Layer (type)                Output Shape              Param #   \n",
            "=================================================================\n",
            " input_11 (InputLayer)       [(None, 28, 28, 1)]       0         \n",
            "                                                                 \n",
            " conv2d_51 (Conv2D)          (None, 26, 26, 32)        320       \n",
            "                                                                 \n",
            " max_pooling2d_41 (MaxPoolin  (None, 13, 13, 32)       0         \n",
            " g2D)                                                            \n",
            "                                                                 \n",
            " dropout_41 (Dropout)        (None, 13, 13, 32)        0         \n",
            "                                                                 \n",
            " conv2d_52 (Conv2D)          (None, 11, 11, 64)        18496     \n",
            "                                                                 \n",
            " max_pooling2d_42 (MaxPoolin  (None, 5, 5, 64)         0         \n",
            " g2D)                                                            \n",
            "                                                                 \n",
            " dropout_42 (Dropout)        (None, 5, 5, 64)          0         \n",
            "                                                                 \n",
            " conv2d_53 (Conv2D)          (None, 3, 3, 128)         73856     \n",
            "                                                                 \n",
            " flatten_9 (Flatten)         (None, 1152)              0         \n",
            "                                                                 \n",
            " dense_9 (Dense)             (None, 10)                11530     \n",
            "                                                                 \n",
            "=================================================================\n",
            "Total params: 104,202\n",
            "Trainable params: 104,202\n",
            "Non-trainable params: 0\n",
            "_________________________________________________________________\n"
          ]
        }
      ],
      "source": [
        "model.summary()"
      ]
    },
    {
      "cell_type": "code",
      "execution_count": null,
      "metadata": {
        "id": "fqZ6vs44foCi"
      },
      "outputs": [],
      "source": []
    },
    {
      "cell_type": "code",
      "execution_count": null,
      "metadata": {
        "colab": {
          "base_uri": "https://localhost:8080/",
          "height": 545
        },
        "id": "8MlG1lv9koW6",
        "outputId": "60885dc0-9227-4b8a-d666-45af44dec979"
      },
      "outputs": [
        {
          "output_type": "display_data",
          "data": {
            "text/plain": [
              "<Figure size 432x288 with 1 Axes>"
            ],
            "image/png": "[encoded data removed]"
          },
          "metadata": {
            "needs_background": "light"
          }
        },
        {
          "output_type": "display_data",
          "data": {
            "text/plain": [
              "<Figure size 432x288 with 1 Axes>"
            ],
            "image/png": "[encoded data removed]"
          },
          "metadata": {
            "needs_background": "light"
          }
        }
      ],
      "source": [
        "\n",
        "accuracy = history.history[\"accuracy\"]\n",
        "val_accuracy = history.history[\"val_accuracy\"]\n",
        "loss = history.history[\"loss\"]\n",
        "val_loss = history.history[\"val_loss\"]\n",
        "epochs = range(1, len(accuracy) + 1)\n",
        "plt.plot(epochs, accuracy, \"bo\", label=\"Training accuracy\")\n",
        "plt.plot(epochs, val_accuracy, \"b\", label=\"Validation accuracy\")\n",
        "plt.title(\"Training and validation accuracy\")\n",
        "plt.legend()\n",
        "plt.figure()\n",
        "plt.plot(epochs, loss, \"bo\", label=\"Training loss\")\n",
        "plt.plot(epochs, val_loss, \"b\", label=\"Validation loss\")\n",
        "plt.title(\"Training and validation loss\")\n",
        "plt.legend()\n",
        "plt.show()"
      ]
    },
    {
      "cell_type": "code",
      "source": [
        "inputs = keras.Input(shape=(28, 28, 1))\n",
        "x = layers.Conv2D(filters=4, kernel_size=3, activation=\"relu\")(inputs)\n",
        "x = layers.MaxPooling2D(pool_size=2)(x)\n",
        "x = layers.Dropout(0.5)(x)\n",
        "x = layers.Conv2D(filters=8, kernel_size=3, activation=\"relu\")(inputs)\n",
        "x = layers.MaxPooling2D(pool_size=2)(x)\n",
        "x = layers.Dropout(0.5)(x)\n",
        "x = layers.Conv2D(filters=16, kernel_size=3, activation=\"relu\")(inputs)\n",
        "x = layers.MaxPooling2D(pool_size=2)(x)\n",
        "x = layers.Dropout(0.5)(x)\n",
        "x = layers.Conv2D(filters=32, kernel_size=3, activation=\"relu\")(inputs)\n",
        "x = layers.MaxPooling2D(pool_size=2)(x)\n",
        "x = layers.Dropout(0.5)(x)\n",
        "x = layers.Conv2D(filters=64, kernel_size=3, activation=\"relu\")(x)\n",
        "x = layers.MaxPooling2D(pool_size=2)(x)\n",
        "x = layers.Dropout(0.2)(x)\n",
        "x = layers.Conv2D(filters=128, kernel_size=3, activation=\"relu\")(x)\n",
        "x = layers.Flatten()(x)\n",
        "outputs = layers.Dense(10, activation=\"softmax\")(x)\n",
        "model = keras.Model(inputs=inputs, outputs=outputs)\n",
        "\n",
        "model.compile(optimizer=tf.keras.optimizers.Adam(learning_rate=0.0007),\n",
        "      loss=\"sparse_categorical_crossentropy\",\n",
        "      metrics=[\"accuracy\"])\n",
        "\n",
        "history = model.fit(train_images,\n",
        "            train_labels,\n",
        "            epochs=100,\n",
        "            validation_split = 0.30,\n",
        "            batch_size=256)\n",
        "\n",
        "accuracy = history.history[\"accuracy\"]\n",
        "val_accuracy = history.history[\"val_accuracy\"]\n",
        "loss = history.history[\"loss\"]\n",
        "val_loss = history.history[\"val_loss\"]\n",
        "epochs = range(1, len(accuracy) + 1)\n",
        "plt.plot(epochs, accuracy, \"bo\", label=\"Training accuracy\")\n",
        "plt.plot(epochs, val_accuracy, \"b\", label=\"Validation accuracy\")\n",
        "plt.title(\"Training and validation accuracy\")\n",
        "plt.legend()\n",
        "plt.figure()\n",
        "plt.plot(epochs, loss, \"bo\", label=\"Training loss\")\n",
        "plt.plot(epochs, val_loss, \"b\", label=\"Validation loss\")\n",
        "plt.title(\"Training and validation loss\")\n",
        "plt.legend()\n",
        "plt.show()"
      ],
      "metadata": {
        "colab": {
          "base_uri": "https://localhost:8080/"
        },
        "id": "QCwuG0SZ2Grg",
        "outputId": "b91a7677-20ff-4cf6-c9b1-550460e594cf"
      },
      "execution_count": null,
      "outputs": [
        {
          "output_type": "stream",
          "name": "stdout",
          "text": [
            "Epoch 1/100\n",
            "165/165 [==============================] - 4s 13ms/step - loss: 2.2607 - accuracy: 0.1515 - val_loss: 2.0736 - val_accuracy: 0.2809\n",
            "Epoch 2/100\n",
            "165/165 [==============================] - 2s 10ms/step - loss: 2.0014 - accuracy: 0.2889 - val_loss: 1.9213 - val_accuracy: 0.3353\n",
            "Epoch 3/100\n",
            "165/165 [==============================] - 2s 10ms/step - loss: 1.8880 - accuracy: 0.3375 - val_loss: 1.8013 - val_accuracy: 0.3789\n",
            "Epoch 4/100\n",
            "165/165 [==============================] - 2s 10ms/step - loss: 1.7723 - accuracy: 0.3817 - val_loss: 1.6677 - val_accuracy: 0.4298\n",
            "Epoch 5/100\n",
            "165/165 [==============================] - 2s 10ms/step - loss: 1.6496 - accuracy: 0.4297 - val_loss: 1.6124 - val_accuracy: 0.4362\n",
            "Epoch 6/100\n",
            "165/165 [==============================] - 2s 10ms/step - loss: 1.5626 - accuracy: 0.4580 - val_loss: 1.4996 - val_accuracy: 0.4889\n",
            "Epoch 7/100\n",
            "165/165 [==============================] - 2s 10ms/step - loss: 1.4944 - accuracy: 0.4870 - val_loss: 1.4143 - val_accuracy: 0.5157\n",
            "Epoch 8/100\n",
            "165/165 [==============================] - 2s 12ms/step - loss: 1.4491 - accuracy: 0.5031 - val_loss: 1.3883 - val_accuracy: 0.5259\n",
            "Epoch 9/100\n",
            "165/165 [==============================] - 2s 12ms/step - loss: 1.4088 - accuracy: 0.5164 - val_loss: 1.3391 - val_accuracy: 0.5482\n",
            "Epoch 10/100\n",
            "165/165 [==============================] - 2s 11ms/step - loss: 1.3725 - accuracy: 0.5303 - val_loss: 1.2953 - val_accuracy: 0.5609\n",
            "Epoch 11/100\n",
            "165/165 [==============================] - 2s 11ms/step - loss: 1.3351 - accuracy: 0.5444 - val_loss: 1.2700 - val_accuracy: 0.5666\n",
            "Epoch 12/100\n",
            "165/165 [==============================] - 2s 11ms/step - loss: 1.3092 - accuracy: 0.5531 - val_loss: 1.2496 - val_accuracy: 0.5800\n",
            "Epoch 13/100\n",
            "165/165 [==============================] - 2s 10ms/step - loss: 1.2791 - accuracy: 0.5641 - val_loss: 1.2588 - val_accuracy: 0.5756\n",
            "Epoch 14/100\n",
            "165/165 [==============================] - 2s 11ms/step - loss: 1.2607 - accuracy: 0.5687 - val_loss: 1.1941 - val_accuracy: 0.5938\n",
            "Epoch 15/100\n",
            "165/165 [==============================] - 2s 12ms/step - loss: 1.2429 - accuracy: 0.5759 - val_loss: 1.1784 - val_accuracy: 0.6023\n",
            "Epoch 16/100\n",
            "165/165 [==============================] - 2s 11ms/step - loss: 1.2227 - accuracy: 0.5844 - val_loss: 1.1596 - val_accuracy: 0.6063\n",
            "Epoch 17/100\n",
            "165/165 [==============================] - 2s 11ms/step - loss: 1.2150 - accuracy: 0.5837 - val_loss: 1.1497 - val_accuracy: 0.6121\n",
            "Epoch 18/100\n",
            "165/165 [==============================] - 2s 11ms/step - loss: 1.1954 - accuracy: 0.5912 - val_loss: 1.1215 - val_accuracy: 0.6164\n",
            "Epoch 19/100\n",
            "165/165 [==============================] - 2s 10ms/step - loss: 1.1793 - accuracy: 0.5972 - val_loss: 1.1125 - val_accuracy: 0.6196\n",
            "Epoch 20/100\n",
            "165/165 [==============================] - 2s 14ms/step - loss: 1.1690 - accuracy: 0.6022 - val_loss: 1.1278 - val_accuracy: 0.6161\n",
            "Epoch 21/100\n",
            "165/165 [==============================] - 2s 11ms/step - loss: 1.1585 - accuracy: 0.6050 - val_loss: 1.0959 - val_accuracy: 0.6289\n",
            "Epoch 22/100\n",
            "165/165 [==============================] - 2s 12ms/step - loss: 1.1503 - accuracy: 0.6085 - val_loss: 1.0832 - val_accuracy: 0.6311\n",
            "Epoch 23/100\n",
            "165/165 [==============================] - 2s 10ms/step - loss: 1.1373 - accuracy: 0.6109 - val_loss: 1.0910 - val_accuracy: 0.6319\n",
            "Epoch 24/100\n",
            "165/165 [==============================] - 2s 10ms/step - loss: 1.1311 - accuracy: 0.6145 - val_loss: 1.0727 - val_accuracy: 0.6346\n",
            "Epoch 25/100\n",
            "165/165 [==============================] - 2s 10ms/step - loss: 1.1216 - accuracy: 0.6171 - val_loss: 1.0635 - val_accuracy: 0.6367\n",
            "Epoch 26/100\n",
            "165/165 [==============================] - 2s 11ms/step - loss: 1.1191 - accuracy: 0.6169 - val_loss: 1.1096 - val_accuracy: 0.6231\n",
            "Epoch 27/100\n",
            "165/165 [==============================] - 2s 11ms/step - loss: 1.1159 - accuracy: 0.6199 - val_loss: 1.0512 - val_accuracy: 0.6424\n",
            "Epoch 28/100\n",
            "165/165 [==============================] - 2s 13ms/step - loss: 1.1033 - accuracy: 0.6204 - val_loss: 1.0473 - val_accuracy: 0.6429\n",
            "Epoch 29/100\n",
            "165/165 [==============================] - 2s 11ms/step - loss: 1.0932 - accuracy: 0.6255 - val_loss: 1.0455 - val_accuracy: 0.6430\n",
            "Epoch 30/100\n",
            "165/165 [==============================] - 2s 10ms/step - loss: 1.0912 - accuracy: 0.6275 - val_loss: 1.0464 - val_accuracy: 0.6412\n",
            "Epoch 31/100\n",
            "165/165 [==============================] - 2s 11ms/step - loss: 1.0896 - accuracy: 0.6283 - val_loss: 1.0631 - val_accuracy: 0.6393\n",
            "Epoch 32/100\n",
            "165/165 [==============================] - 2s 11ms/step - loss: 1.0843 - accuracy: 0.6320 - val_loss: 1.0445 - val_accuracy: 0.6472\n",
            "Epoch 33/100\n",
            "165/165 [==============================] - 2s 10ms/step - loss: 1.0757 - accuracy: 0.6316 - val_loss: 1.0746 - val_accuracy: 0.6352\n",
            "Epoch 34/100\n",
            "165/165 [==============================] - 2s 10ms/step - loss: 1.0647 - accuracy: 0.6369 - val_loss: 1.0286 - val_accuracy: 0.6534\n",
            "Epoch 35/100\n",
            "165/165 [==============================] - 2s 11ms/step - loss: 1.0592 - accuracy: 0.6381 - val_loss: 1.0274 - val_accuracy: 0.6511\n",
            "Epoch 36/100\n",
            "165/165 [==============================] - 2s 13ms/step - loss: 1.0560 - accuracy: 0.6397 - val_loss: 1.0333 - val_accuracy: 0.6476\n",
            "Epoch 37/100\n",
            "165/165 [==============================] - 2s 10ms/step - loss: 1.0480 - accuracy: 0.6421 - val_loss: 1.0226 - val_accuracy: 0.6531\n",
            "Epoch 38/100\n",
            "165/165 [==============================] - 2s 10ms/step - loss: 1.0499 - accuracy: 0.6423 - val_loss: 1.0112 - val_accuracy: 0.6534\n",
            "Epoch 39/100\n",
            "165/165 [==============================] - 2s 10ms/step - loss: 1.0407 - accuracy: 0.6433 - val_loss: 1.0149 - val_accuracy: 0.6522\n",
            "Epoch 40/100\n",
            "165/165 [==============================] - 2s 10ms/step - loss: 1.0420 - accuracy: 0.6439 - val_loss: 1.0122 - val_accuracy: 0.6532\n",
            "Epoch 41/100\n",
            "165/165 [==============================] - 2s 10ms/step - loss: 1.0354 - accuracy: 0.6468 - val_loss: 1.0000 - val_accuracy: 0.6596\n",
            "Epoch 42/100\n",
            "165/165 [==============================] - 2s 13ms/step - loss: 1.0285 - accuracy: 0.6498 - val_loss: 1.0153 - val_accuracy: 0.6536\n",
            "Epoch 43/100\n",
            "165/165 [==============================] - 2s 11ms/step - loss: 1.0281 - accuracy: 0.6481 - val_loss: 1.0150 - val_accuracy: 0.6567\n",
            "Epoch 44/100\n",
            "165/165 [==============================] - 2s 10ms/step - loss: 1.0287 - accuracy: 0.6486 - val_loss: 0.9976 - val_accuracy: 0.6596\n",
            "Epoch 45/100\n",
            "165/165 [==============================] - 2s 11ms/step - loss: 1.0231 - accuracy: 0.6499 - val_loss: 0.9924 - val_accuracy: 0.6609\n",
            "Epoch 46/100\n",
            "165/165 [==============================] - 2s 10ms/step - loss: 1.0162 - accuracy: 0.6526 - val_loss: 0.9987 - val_accuracy: 0.6550\n",
            "Epoch 47/100\n",
            "165/165 [==============================] - 2s 10ms/step - loss: 1.0137 - accuracy: 0.6510 - val_loss: 1.0090 - val_accuracy: 0.6587\n",
            "Epoch 48/100\n",
            "165/165 [==============================] - 2s 10ms/step - loss: 1.0090 - accuracy: 0.6557 - val_loss: 1.0377 - val_accuracy: 0.6470\n",
            "Epoch 49/100\n",
            "165/165 [==============================] - 2s 10ms/step - loss: 1.0116 - accuracy: 0.6526 - val_loss: 0.9973 - val_accuracy: 0.6582\n",
            "Epoch 50/100\n",
            "165/165 [==============================] - 2s 11ms/step - loss: 1.0072 - accuracy: 0.6558 - val_loss: 0.9847 - val_accuracy: 0.6608\n",
            "Epoch 51/100\n",
            "165/165 [==============================] - 2s 11ms/step - loss: 1.0018 - accuracy: 0.6558 - val_loss: 0.9956 - val_accuracy: 0.6599\n",
            "Epoch 52/100\n",
            "147/165 [=========================>....] - ETA: 0s - loss: 1.0017 - accuracy: 0.6562"
          ]
        }
      ]
    }
  ],
  "metadata": {
    "accelerator": "GPU",
    "colab": {
      "provenance": []
    },
    "gpuClass": "standard",
    "kernelspec": {
      "display_name": "Python 3",
      "name": "python3"
    },
    "language_info": {
      "name": "python"
    }
  },
  "nbformat": 4,
  "nbformat_minor": 0
}